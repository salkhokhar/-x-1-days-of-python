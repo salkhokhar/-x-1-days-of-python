{
 "cells": [
  {
   "cell_type": "markdown",
   "id": "5fb2e5c4",
   "metadata": {},
   "source": [
    "# 2. Intro to Number system "
   ]
  },
  {
   "cell_type": "markdown",
   "id": "9ebc3d43",
   "metadata": {},
   "source": [
    "Introducing some basic operations of arithmatic"
   ]
  },
  {
   "cell_type": "code",
   "execution_count": 4,
   "id": "5b2b22df",
   "metadata": {},
   "outputs": [
    {
     "name": "stdout",
     "output_type": "stream",
     "text": [
      "Sum of the numbers will be: 19\n",
      "Subtarction of the numbers will be: 11\n",
      "Multiplication of the numbers will be: 60\n",
      "Division of the numbers will be: 3.75\n",
      "Floor division of the numbers will be: 3\n",
      "Raising a number to its exponent: 50625\n",
      "Modulus on division of the numbers will be: 3\n"
     ]
    }
   ],
   "source": [
    "num1 = 15\n",
    "num2 = 4\n",
    "print(\"Sum of the numbers will be: {}\".format(num1 + num2))\n",
    "print(\"Subtarction of the numbers will be: {}\".format(num1 - num2))\n",
    "print(\"Multiplication of the numbers will be: {}\".format(num1 * num2))\n",
    "print(\"Division of the numbers will be: {}\".format(num1 / num2))\n",
    "# floor division provides only the integer part of the quotient \n",
    "print(\"Floor division of the numbers will be: {}\".format(num1 // num2))  \n",
    "print(\"Raising a number to its exponent: {}\".format(num1 ** num2))\n",
    "# modulus is just the fancy way of saying reminder\n",
    "print(\"Modulus on division of the numbers will be: {}\".format(num1 % num2))"
   ]
  },
  {
   "cell_type": "code",
   "execution_count": 21,
   "id": "bc4d8c46",
   "metadata": {},
   "outputs": [
    {
     "name": "stdout",
     "output_type": "stream",
     "text": [
      "this is what happens when you add two strings: 57\n",
      "Whereas, the result should have been: 12\n"
     ]
    }
   ],
   "source": [
    "# Sometimes a variable may seem to contain a number but it actually contains a string\n",
    "# remember integers and floats don't need quotation marks\n",
    "not_a_num1 = '5'\n",
    "not_a_num2 = '7'\n",
    "num1 = 5\n",
    "num2 = 7\n",
    "print(\"this is what happens when you add two strings: {}\".format(not_a_num1 + not_a_num2))\n",
    "print('Whereas, the result should have been: {}'.format(num1 + num2))"
   ]
  },
  {
   "cell_type": "code",
   "execution_count": 23,
   "id": "e66cc895",
   "metadata": {},
   "outputs": [
    {
     "name": "stdout",
     "output_type": "stream",
     "text": [
      "<class 'str'>\n",
      "<class 'int'>\n",
      "<class 'float'>\n"
     ]
    }
   ],
   "source": [
    "# if you have to convert a string into an integer or float\n",
    "# just use the int() and float() functions\n",
    "print(type(not_a_num1)) # type() function returns the type of variable\n",
    "int1 = int(not_a_num1)\n",
    "print(type(int1))\n",
    "float1 = float(not_a_num1)\n",
    "print(type(float1))"
   ]
  },
  {
   "cell_type": "code",
   "execution_count": 26,
   "id": "0370d5a2",
   "metadata": {},
   "outputs": [
    {
     "name": "stdout",
     "output_type": "stream",
     "text": [
      "original number is: 10\n",
      "updated number is: 11\n",
      "latest number is: 12\n"
     ]
    }
   ],
   "source": [
    "# Sometimes we have to add, multiply, subtract etc. a constant from a variable number\n",
    "# and update the variable. Like,\n",
    "num = 10\n",
    "print(\"original number is: {}\".format(num))\n",
    "num = num + 1\n",
    "print(\"updated number is: {}\".format(num))\n",
    "# but we can also use a short hand for this operation\n",
    "num += 1 # just put the operator before equal sign \n",
    "print(\"latest number is: {}\".format(num))"
   ]
  },
  {
   "cell_type": "code",
   "execution_count": 27,
   "id": "e6fd2909",
   "metadata": {},
   "outputs": [
    {
     "name": "stdout",
     "output_type": "stream",
     "text": [
      "original number is: 10\n",
      "multiplied number is: 20\n",
      "subtracted number is: 18\n",
      "divided number is: 9.0\n"
     ]
    }
   ],
   "source": [
    "# This can also be done with operators other than addition\n",
    "num = 10\n",
    "print(\"original number is: {}\".format(num))\n",
    "num *= 2\n",
    "print(\"multiplied number is: {}\".format(num))\n",
    "num -= 2\n",
    "print(\"subtracted number is: {}\".format(num))\n",
    "num /=2\n",
    "print(\"divided number is: {}\".format(num))"
   ]
  },
  {
   "cell_type": "markdown",
   "id": "d8da9460",
   "metadata": {},
   "source": [
    "Some comparison functions.  \n",
    "They will return boolean, i.e., True or False as result"
   ]
  },
  {
   "cell_type": "code",
   "execution_count": 19,
   "id": "75aa22fc",
   "metadata": {},
   "outputs": [
    {
     "name": "stdout",
     "output_type": "stream",
     "text": [
      "Are numbers equal: False\n",
      "Are numbers not equal: True\n",
      "Is first number greater than the second: True\n",
      "Is first number smaller than the second: False\n",
      "Is first number greater than or equal to the second: True\n",
      "Is first number less than or equal to the second: False\n"
     ]
    }
   ],
   "source": [
    "num1 = 15\n",
    "num2 = 4\n",
    "print(\"Are numbers equal: {}\".format(num1 == num2))\n",
    "print(\"Are numbers not equal: {}\".format(num1 != num2))\n",
    "print(\"Is first number greater than the second: {}\".format(num1 > num2))\n",
    "print(\"Is first number smaller than the second: {}\".format(num1 < num2))\n",
    "print(\"Is first number greater than or equal to the second: {}\".format(num1 >= num2))  \n",
    "print(\"Is first number less than or equal to the second: {}\".format(num1 <= num2))\n"
   ]
  },
  {
   "cell_type": "markdown",
   "id": "e3fa2eb7",
   "metadata": {},
   "source": [
    "\n",
    "\n",
    "It rarely happens when you have to just use one mathematical operation at a time.  \n",
    "The following is the order/priority of operations:  \n",
    "\n",
    "|Priority       | Category      | Operators     |\n",
    "| ------------- |:-------------:| -------------:|\n",
    "| 7 (High)      | exponent      |  **           |\n",
    "| 6             | multiplication|  *,/,//,%     |\n",
    "| 5             | addition      |  +,-          |\n",
    "| 4             | relation      |==,!=,<=,>=,>,<|\n",
    "| 3             | logical       |  not          |\n",
    "| 2             | logical       |  and          |\n",
    "| 1 (Low)       | logical       |  or           |"
   ]
  },
  {
   "cell_type": "code",
   "execution_count": 8,
   "id": "cac1bb16",
   "metadata": {},
   "outputs": [
    {
     "name": "stdout",
     "output_type": "stream",
     "text": [
      "False\n"
     ]
    }
   ],
   "source": [
    "print(((5*3) > 10) and ((4+6) == 11))"
   ]
  },
  {
   "cell_type": "code",
   "execution_count": 10,
   "id": "71385a73",
   "metadata": {},
   "outputs": [
    {
     "name": "stdout",
     "output_type": "stream",
     "text": [
      "True\n"
     ]
    }
   ],
   "source": [
    "print((5*3) > 10)"
   ]
  },
  {
   "cell_type": "code",
   "execution_count": 11,
   "id": "d5bfaff3",
   "metadata": {},
   "outputs": [
    {
     "name": "stdout",
     "output_type": "stream",
     "text": [
      "4.75\n"
     ]
    }
   ],
   "source": [
    "print(5-2/2**3)"
   ]
  },
  {
   "cell_type": "markdown",
   "id": "e016d5a4",
   "metadata": {},
   "source": [
    "Some mathematical functions"
   ]
  },
  {
   "cell_type": "code",
   "execution_count": 12,
   "id": "ad4cd1e2",
   "metadata": {},
   "outputs": [
    {
     "name": "stdout",
     "output_type": "stream",
     "text": [
      "5\n",
      "5\n"
     ]
    }
   ],
   "source": [
    "# abs() returns the absolute value \n",
    "print(abs(-5))\n",
    "print(abs(5))"
   ]
  },
  {
   "cell_type": "code",
   "execution_count": 17,
   "id": "de7278de",
   "metadata": {},
   "outputs": [
    {
     "name": "stdout",
     "output_type": "stream",
     "text": [
      "5\n",
      "4\n",
      "4\n",
      "4.8\n",
      "4.75\n"
     ]
    }
   ],
   "source": [
    "# round() rounds off the the float to the nearest integer\n",
    "print(round(4.75))\n",
    "print(round(4.25))\n",
    "print(round(4.5))\n",
    "# round() can also round off to a  specific digit after decimal instead of rounding off to a integer\n",
    "print(round(4.75, 1))\n",
    "print(round(4.75, 4)) "
   ]
  },
  {
   "cell_type": "code",
   "execution_count": null,
   "id": "4cc53e58",
   "metadata": {},
   "outputs": [],
   "source": []
  }
 ],
 "metadata": {
  "kernelspec": {
   "display_name": "Python 3 (ipykernel)",
   "language": "python",
   "name": "python3"
  },
  "language_info": {
   "codemirror_mode": {
    "name": "ipython",
    "version": 3
   },
   "file_extension": ".py",
   "mimetype": "text/x-python",
   "name": "python",
   "nbconvert_exporter": "python",
   "pygments_lexer": "ipython3",
   "version": "3.9.13"
  }
 },
 "nbformat": 4,
 "nbformat_minor": 5
}
