{
 "cells": [
  {
   "cell_type": "markdown",
   "id": "7312bd6c",
   "metadata": {},
   "source": [
    "# 3. Lists  \n"
   ]
  },
  {
   "cell_type": "markdown",
   "id": "0195b874",
   "metadata": {},
   "source": [
    "Lists allow us to work with sequencial data. They are declared using either the list() function or square brackets [ ].  \n",
    "Each item in a list is seperated by a comma (,)."
   ]
  },
  {
   "cell_type": "code",
   "execution_count": 5,
   "id": "d0cd1b75",
   "metadata": {},
   "outputs": [
    {
     "name": "stdout",
     "output_type": "stream",
     "text": [
      "we can see that we have declared both variables as list using the type function:<class 'list'> <class 'list'>\n",
      "The number of items in both lists are 0 and 0, respectively\n"
     ]
    }
   ],
   "source": [
    "# declaring emplty lists\n",
    "empty_list1 = []\n",
    "empty_list2 = list()\n",
    "print(\"we can see that we have declared both variables as list using the type function:\\\n",
    "{} {}\".format(type(empty_list1), type(empty_list2)))\n",
    "\n",
    "# we can check the number of items in a list by using len() function\n",
    "print(\"The number of items in both lists are {} and {}, \\\n",
    "respectively\".format(len(empty_list1), len(empty_list2)))"
   ]
  },
  {
   "cell_type": "code",
   "execution_count": 13,
   "id": "2735882d",
   "metadata": {},
   "outputs": [
    {
     "name": "stdout",
     "output_type": "stream",
     "text": [
      "The number of items in the list is 4\n",
      "The first item in the list is Professor\n",
      "The last item in the list is Rio\n",
      "The first three item in the list are ['Professor', 'Tokyo', 'Berlin']\n",
      "The variable type of an indexed item will not be list but is: <class 'str'>\n",
      "The first character of first item in the list is: P\n"
     ]
    }
   ],
   "source": [
    "# we can use indexing with lists in the exact same way we did with strings\n",
    "heist = ['Professor', 'Tokyo', 'Berlin', 'Rio']\n",
    "print(\"The number of items in the list is {}\".format(len(heist)))\n",
    "print(\"The first item in the list is {}\".format(heist[0]))\n",
    "print(\"The last item in the list is {}\".format(heist[-1]))\n",
    "print(\"The first three item in the list are {}\".format(heist[:3]))\n",
    "\n",
    "# by refering to an item via indexing, we can treat that as an indivisual item\n",
    "print(\"The variable type of an indexed item will not be list but is: {}\".format(type(heist[0])))\n",
    "\n",
    "# if the item in the list is a string, then we can also use indexing with that string\n",
    "print(\"The first character of first item in the list is: {}\".format(heist[0][0]))"
   ]
  },
  {
   "cell_type": "code",
   "execution_count": 16,
   "id": "1a85cefd",
   "metadata": {},
   "outputs": [
    {
     "name": "stdout",
     "output_type": "stream",
     "text": [
      "The type of items in the list are: <class 'int'>, <class 'float'>, <class 'str'> and <class 'list'>\n",
      "[1, 2.0, 'three', [4.1, 'four point two'], 5]\n"
     ]
    }
   ],
   "source": [
    "# the list can also contain items of different types\n",
    "lst1 = [1, 2.0, 'three', [4.1, 'four point two']]\n",
    "print(\"The type of items in the list are: {}, {}, {} and {}\".format(type(lst1[0]), \\\n",
    "                                                                    type(lst1[1]), \\\n",
    "                                                                   type(lst1[2]), type(lst1[3])))\n",
    "# yeah... a list can also contain another list as an item\n",
    "lst2 = [5]\n",
    "lst = lst1 + lst2\n",
    "print(lst)"
   ]
  },
  {
   "cell_type": "markdown",
   "id": "38204506",
   "metadata": {},
   "source": [
    "### Some important functions & methods"
   ]
  },
  {
   "cell_type": "code",
   "execution_count": 24,
   "id": "9fc53bef",
   "metadata": {
    "scrolled": true
   },
   "outputs": [
    {
     "name": "stdout",
     "output_type": "stream",
     "text": [
      "Appended list is: ['Professor', 'Tokyo', 'Berlin', 'Rio', 'Helsinki']\n",
      "the list with the changed order is: ['Professor', 'Tokyo', 'Denver', 'Berlin', 'Rio', 'Helsinki']\n",
      "Adding the two lists looks like this: ['Professor', 'Tokyo', 'Denver', 'Berlin', 'Rio', 'Helsinki', 'Raquel', 'Alicia']\n",
      "Adding the two lists looks like this: ['Professor', 'Tokyo', 'Denver', 'Berlin', 'Rio', 'Helsinki', 'Raquel', 'Alicia']\n",
      "Raquel had a faling out with the prof, so the new team is: ['Professor', 'Tokyo', 'Denver', 'Berlin', 'Rio', 'Helsinki', 'Alicia']\n",
      "Now, Alicia has also left. The team is left with just: ['Professor', 'Tokyo', 'Denver', 'Berlin', 'Rio', 'Helsinki']\n"
     ]
    }
   ],
   "source": [
    "# to add an item in a list, we use append() method\n",
    "heist = ['Professor', 'Tokyo', 'Berlin', 'Rio']\n",
    "heist.append('Helsinki')\n",
    "print(\"Appended list is: {}\".format(heist))\n",
    "# we can also use the insert() method. With it we can also specify the index at which we have \n",
    "# to add the new item\n",
    "heist.insert(2, 'Denver')\n",
    "print(\"the list with the changed order is: {}\".format(heist))\n",
    "\n",
    "# we can also add the contents of two or more lists. We can do that in 2 ways\n",
    "# 1. By simply using the + operator\n",
    "cops = ['Raquel', 'Alicia']\n",
    "all_heist1 = heist + cops\n",
    "print(\"Adding the two lists looks like this: {}\".format(all_heist1))\n",
    "# 2. we can use the extend() method\n",
    "heist.extend(cops)\n",
    "print(\"Adding the two lists looks like this: {}\".format(heist))\n",
    "# remember that extend() method is to combine two lists, whereas append() \n",
    "# and insert() methods is to add new item\n",
    "\n",
    "# to remove items from a list we can use either pop() or remove() method\n",
    "# remove() method removes a specific item\n",
    "heist.remove('Raquel')\n",
    "print(\"Raquel had a faling out with the prof, so the new team is: {}\".format(heist))\n",
    "# the pop() method deletes the last item and is also capable of returning that item \n",
    "popped = heist.pop()\n",
    "print(\"Now, {} has also left. The team is left with just: {}\".format(popped, heist))\n"
   ]
  },
  {
   "cell_type": "code",
   "execution_count": 28,
   "id": "2b77b565",
   "metadata": {},
   "outputs": [
    {
     "name": "stdout",
     "output_type": "stream",
     "text": [
      "Original list is: ['Professor', 'Tokyo', 'Berlin', 'Rio']\n",
      "Reversed list is: ['Rio', 'Berlin', 'Tokyo', 'Professor']\n",
      "Sorted list is: ['Berlin', 'Professor', 'Rio', 'Tokyo']\n",
      "Reverse sorted list is: ['Tokyo', 'Rio', 'Professor', 'Berlin']\n",
      "Original list is: ['Professor', 'Tokyo', 'Berlin', 'Rio']\n",
      "Sorted list is: ['Berlin', 'Professor', 'Rio', 'Tokyo']\n"
     ]
    }
   ],
   "source": [
    "# to reverse the order of items, just use reverse() method\n",
    "heist = ['Professor', 'Tokyo', 'Berlin', 'Rio']\n",
    "print(\"Original list is: {}\".format(heist))\n",
    "heist.reverse()\n",
    "print(\"Reversed list is: {}\".format(heist))\n",
    "\n",
    "# to sort the list just use sort() method\n",
    "heist.sort()\n",
    "print(\"Sorted list is: {}\".format(heist))\n",
    "# you can pass reverse attribute in the sort method to reverse sort the list\n",
    "heist.sort(reverse = True)\n",
    "print(\"Reverse sorted list is: {}\".format(heist))\n",
    "\n",
    "# in case you don't want to sort out your original list but need to create \n",
    "# another list that is sorted, use sorted() function instead of sort() method\n",
    "heist = ['Professor', 'Tokyo', 'Berlin', 'Rio']\n",
    "sorted_heist = sorted(heist)\n",
    "print(\"Original list is: {}\".format(heist))\n",
    "print(\"Sorted list is: {}\".format(sorted_heist))"
   ]
  },
  {
   "cell_type": "code",
   "execution_count": 35,
   "id": "c5985f85",
   "metadata": {},
   "outputs": [
    {
     "name": "stdout",
     "output_type": "stream",
     "text": [
      "the minimun item in each list is: Berlin and 1\n",
      "the maximum item in each list is: Tokyo and 4.5\n",
      "the sum of items in numbers list is: 10.8\n",
      "I hope that adding items that are not numerals won't cause an error\n"
     ]
    },
    {
     "ename": "TypeError",
     "evalue": "unsupported operand type(s) for +: 'int' and 'str'",
     "output_type": "error",
     "traceback": [
      "\u001b[1;31m---------------------------------------------------------------------------\u001b[0m",
      "\u001b[1;31mTypeError\u001b[0m                                 Traceback (most recent call last)",
      "Input \u001b[1;32mIn [35]\u001b[0m, in \u001b[0;36m<cell line: 10>\u001b[1;34m()\u001b[0m\n\u001b[0;32m      8\u001b[0m \u001b[38;5;28mprint\u001b[39m(\u001b[38;5;124m\"\u001b[39m\u001b[38;5;124mthe sum of items in numbers list is: \u001b[39m\u001b[38;5;132;01m{}\u001b[39;00m\u001b[38;5;124m\"\u001b[39m\u001b[38;5;241m.\u001b[39mformat(\u001b[38;5;28msum\u001b[39m(num)))\n\u001b[0;32m      9\u001b[0m \u001b[38;5;28mprint\u001b[39m(\u001b[38;5;124m\"\u001b[39m\u001b[38;5;124mI hope that adding items that are not numerals won\u001b[39m\u001b[38;5;124m'\u001b[39m\u001b[38;5;124mt cause an error\u001b[39m\u001b[38;5;124m\"\u001b[39m)\n\u001b[1;32m---> 10\u001b[0m \u001b[38;5;28mprint\u001b[39m(\u001b[38;5;28;43msum\u001b[39;49m\u001b[43m(\u001b[49m\u001b[43mheist\u001b[49m\u001b[43m)\u001b[49m)\n",
      "\u001b[1;31mTypeError\u001b[0m: unsupported operand type(s) for +: 'int' and 'str'"
     ]
    }
   ],
   "source": [
    "# we can find the minimum and maximum items and even get of sum of item if only \n",
    "# floats and integers are present\n",
    "heist = ['Professor', 'Tokyo', 'Berlin', 'Rio']\n",
    "num = [ 1, 2, 3.3, 4.5]\n",
    "print(\"the minimun item in each list is: {} and {}\".format(min(heist), min(num)))\n",
    "print(\"the maximum item in each list is: {} and {}\".format(max(heist), max(num)))\n",
    "\n",
    "print(\"the sum of items in numbers list is: {}\".format(sum(num)))\n",
    "print(\"I hope that adding items that are not numerals won't cause an error\")\n",
    "print(sum(heist))"
   ]
  },
  {
   "cell_type": "code",
   "execution_count": 40,
   "id": "6ec9cf48",
   "metadata": {},
   "outputs": [
    {
     "name": "stdout",
     "output_type": "stream",
     "text": [
      "The item 'Tokyo' is present at 1 position\n",
      "The item 'Tokyo' is present the list: True\n",
      "The item 'Helsinki' is present the list: False\n"
     ]
    },
    {
     "ename": "ValueError",
     "evalue": "'Helsinki' is not in list",
     "output_type": "error",
     "traceback": [
      "\u001b[1;31m---------------------------------------------------------------------------\u001b[0m",
      "\u001b[1;31mValueError\u001b[0m                                Traceback (most recent call last)",
      "Input \u001b[1;32mIn [40]\u001b[0m, in \u001b[0;36m<cell line: 8>\u001b[1;34m()\u001b[0m\n\u001b[0;32m      6\u001b[0m \u001b[38;5;28mprint\u001b[39m(\u001b[38;5;124m\"\u001b[39m\u001b[38;5;124mThe item \u001b[39m\u001b[38;5;124m'\u001b[39m\u001b[38;5;124mTokyo\u001b[39m\u001b[38;5;124m'\u001b[39m\u001b[38;5;124m is present the list: \u001b[39m\u001b[38;5;132;01m{}\u001b[39;00m\u001b[38;5;124m\"\u001b[39m\u001b[38;5;241m.\u001b[39mformat(\u001b[38;5;124m'\u001b[39m\u001b[38;5;124mTokyo\u001b[39m\u001b[38;5;124m'\u001b[39m \u001b[38;5;129;01min\u001b[39;00m heist))\n\u001b[0;32m      7\u001b[0m \u001b[38;5;28mprint\u001b[39m(\u001b[38;5;124m\"\u001b[39m\u001b[38;5;124mThe item \u001b[39m\u001b[38;5;124m'\u001b[39m\u001b[38;5;124mHelsinki\u001b[39m\u001b[38;5;124m'\u001b[39m\u001b[38;5;124m is present the list: \u001b[39m\u001b[38;5;132;01m{}\u001b[39;00m\u001b[38;5;124m\"\u001b[39m\u001b[38;5;241m.\u001b[39mformat(\u001b[38;5;124m'\u001b[39m\u001b[38;5;124mHelsinki\u001b[39m\u001b[38;5;124m'\u001b[39m \u001b[38;5;129;01min\u001b[39;00m heist))\n\u001b[1;32m----> 8\u001b[0m \u001b[38;5;28mprint\u001b[39m(\u001b[38;5;124m\"\u001b[39m\u001b[38;5;124mThe item \u001b[39m\u001b[38;5;124m'\u001b[39m\u001b[38;5;124mTokyo\u001b[39m\u001b[38;5;124m'\u001b[39m\u001b[38;5;124m is present at \u001b[39m\u001b[38;5;132;01m{}\u001b[39;00m\u001b[38;5;124m position\u001b[39m\u001b[38;5;124m\"\u001b[39m\u001b[38;5;241m.\u001b[39mformat(\u001b[43mheist\u001b[49m\u001b[38;5;241;43m.\u001b[39;49m\u001b[43mindex\u001b[49m\u001b[43m(\u001b[49m\u001b[38;5;124;43m'\u001b[39;49m\u001b[38;5;124;43mHelsinki\u001b[39;49m\u001b[38;5;124;43m'\u001b[39;49m\u001b[43m)\u001b[49m))\n",
      "\u001b[1;31mValueError\u001b[0m: 'Helsinki' is not in list"
     ]
    }
   ],
   "source": [
    "# to check if an item is present in a list\n",
    "# we can use either index() method, which provides us with the index of that item if present,\n",
    "# or the keyword in, which will return either true or false\n",
    "heist = ['Professor', 'Tokyo', 'Berlin', 'Rio']\n",
    "print(\"The item 'Tokyo' is present at {} position\".format(heist.index('Tokyo')))\n",
    "print(\"The item 'Tokyo' is present the list: {}\".format('Tokyo' in heist))\n",
    "print(\"The item 'Helsinki' is present the list: {}\".format('Helsinki' in heist))\n",
    "# if the item is not present and we use index() method, it will throw an error\n",
    "print(\"The item 'Helsinki' is present at {} position\".format(heist.index('Helsinki')))\n"
   ]
  },
  {
   "cell_type": "code",
   "execution_count": 45,
   "id": "7e341284",
   "metadata": {},
   "outputs": [
    {
     "name": "stdout",
     "output_type": "stream",
     "text": [
      "The string is: Professor, Tokyo, Berlin, Rio\n",
      "The list is: ['Professor', 'Tokyo', 'Berlin', 'Rio']\n"
     ]
    }
   ],
   "source": [
    "# to convert list into a string or a string into a list, use join() and split() methods\n",
    "heist = ['Professor', 'Tokyo', 'Berlin', 'Rio']\n",
    "heist_str = ', '.join(heist) # \", \" is the value that will be inserted between each item\n",
    "print(\"The string is: {}\".format(heist_str))\n",
    "heist_lst = heist_str.split(\", \") # \", \" is the value that indicated where the string should split up into items\n",
    "print(\"The list is: {}\".format(heist_lst))\n"
   ]
  },
  {
   "cell_type": "code",
   "execution_count": null,
   "id": "a8ccc5c8",
   "metadata": {},
   "outputs": [],
   "source": []
  }
 ],
 "metadata": {
  "kernelspec": {
   "display_name": "Python 3 (ipykernel)",
   "language": "python",
   "name": "python3"
  },
  "language_info": {
   "codemirror_mode": {
    "name": "ipython",
    "version": 3
   },
   "file_extension": ".py",
   "mimetype": "text/x-python",
   "name": "python",
   "nbconvert_exporter": "python",
   "pygments_lexer": "ipython3",
   "version": "3.9.13"
  }
 },
 "nbformat": 4,
 "nbformat_minor": 5
}
