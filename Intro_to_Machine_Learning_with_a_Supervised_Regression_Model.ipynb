{
  "nbformat": 4,
  "nbformat_minor": 0,
  "metadata": {
    "colab": {
      "provenance": []
    },
    "kernelspec": {
      "name": "python3",
      "display_name": "Python 3"
    },
    "language_info": {
      "name": "python"
    }
  },
  "cells": [
    {
      "cell_type": "markdown",
      "source": [
        "<h2>Importing Libraries</h2>\n",
        "  <p>\n",
        "    This code brings in all of the external tools we’ll need:\n",
        "    <ul>\n",
        "      <li><strong>pandas</strong> for data manipulation (aliased as <code>pd</code>).</li>\n",
        "      <li><code>fetch_california_housing</code> to load a built-in housing dataset.</li>\n",
        "      <li><code>train_test_split</code> to divide our data into training and test sets.</li>\n",
        "      <li><code>mean_squared_error</code> and <code>r2_score</code> for evaluating regression performance.</li>\n",
        "      <li><code>XGBRegressor</code> from XGBoost as one of our tree-based regression models.</li>\n",
        "    </ul>\n",
        "  </p>"
      ],
      "metadata": {
        "id": "H-zKqSpza7ue"
      }
    },
    {
      "cell_type": "code",
      "execution_count": 1,
      "metadata": {
        "id": "bWt9e45Qgw6N"
      },
      "outputs": [],
      "source": [
        "import pandas as pd\n",
        "from sklearn.datasets import fetch_california_housing\n",
        "from sklearn.model_selection import train_test_split\n",
        "from sklearn.metrics import mean_squared_error, r2_score\n",
        "from xgboost import XGBRegressor\n"
      ]
    },
    {
      "cell_type": "markdown",
      "source": [
        "<h2>Loading & Assembling the Dataset in Detail</h2>\n",
        "\n",
        "<p>Using this code, we:</p>\n",
        "<ol>\n",
        "  <li><strong>Fetch the California housing data</strong> as a pandas DataFrame and Series:</li>\n",
        "    <ul>\n",
        "      <li><code>data.data</code> is a DataFrame of 8 feature columns.</li>\n",
        "      <li><code>data.target</code> is a Series of the target values (median house prices).</li>\n",
        "    </ul>\n",
        "  <li><strong>Concatenate</strong> those two parts side-by-side into one DataFrame <code>df</code>.</li>\n",
        "  <li><code>df.head()</code> lets us inspect the first few rows to confirm everything loaded correctly.</li>\n",
        "</ol>\n",
        "\n",
        "<p><strong>Feature (Column) Descriptions:</strong></p>\n",
        "<dl>\n",
        "  <dt>MedInc</dt>\n",
        "  <dd>\n",
        "    <em>Median Income</em> of households in the block group, measured in tens of thousands of U.S. dollars.  \n",
        "    A value of 3.5 → \\$35,000.\n",
        "  </dd>\n",
        "\n",
        "  <dt>HouseAge</dt>\n",
        "  <dd>\n",
        "    <em>Median House Age</em> in the block group, in years.  \n",
        "    Higher values indicate older housing stock.\n",
        "  </dd>\n",
        "\n",
        "  <dt>AveRooms</dt>\n",
        "  <dd>\n",
        "    <em>Average Rooms per Household</em>.  \n",
        "    Computed as total rooms ÷ number of households.\n",
        "  </dd>\n",
        "\n",
        "  <dt>AveBedrms</dt>\n",
        "  <dd>\n",
        "    <em>Average Bedrooms per Household</em>.  \n",
        "    Total bedrooms ÷ number of households.\n",
        "  </dd>\n",
        "\n",
        "  <dt>Population</dt>\n",
        "  <dd>\n",
        "    <em>Block Group Population</em>.  \n",
        "    Total number of people living in that block group.\n",
        "  </dd>\n",
        "\n",
        "  <dt>AveOccup</dt>\n",
        "  <dd>\n",
        "    <em>Average Occupancy</em> (household size).  \n",
        "    Total population ÷ number of households.\n",
        "  </dd>\n",
        "\n",
        "  <dt>Latitude</dt>\n",
        "  <dd>\n",
        "    <em>Block Group Latitude</em> coordinate (in degrees).  \n",
        "    Indicates north–south position.\n",
        "  </dd>\n",
        "\n",
        "  <dt>Longitude</dt>\n",
        "  <dd>\n",
        "    <em>Block Group Longitude</em> coordinate (in degrees).  \n",
        "    Indicates east–west position.\n",
        "  </dd>\n",
        "\n",
        "  <dt>Target</dt>\n",
        "  <dd>\n",
        "    <em>Median House Value</em> for the block group, in hundreds of thousands of U.S. dollars.  \n",
        "    A value of 2.5 → \\$250,000.\n",
        "  </dd>\n",
        "</dl>\n"
      ],
      "metadata": {
        "id": "T5ikKxHFa8AO"
      }
    },
    {
      "cell_type": "code",
      "source": [
        "data = fetch_california_housing(as_frame=True)\n",
        "df = pd.concat([data.data, data.target.rename(\"Target\")], axis=1)\n",
        "df.head()\n"
      ],
      "metadata": {
        "colab": {
          "base_uri": "https://localhost:8080/",
          "height": 206
        },
        "id": "wBZ4cs5pgxon",
        "outputId": "048dcccb-9290-4ed7-8957-e5d0dbfe9290"
      },
      "execution_count": 2,
      "outputs": [
        {
          "output_type": "execute_result",
          "data": {
            "text/plain": [
              "   MedInc  HouseAge  AveRooms  AveBedrms  Population  AveOccup  Latitude  \\\n",
              "0  8.3252      41.0  6.984127   1.023810       322.0  2.555556     37.88   \n",
              "1  8.3014      21.0  6.238137   0.971880      2401.0  2.109842     37.86   \n",
              "2  7.2574      52.0  8.288136   1.073446       496.0  2.802260     37.85   \n",
              "3  5.6431      52.0  5.817352   1.073059       558.0  2.547945     37.85   \n",
              "4  3.8462      52.0  6.281853   1.081081       565.0  2.181467     37.85   \n",
              "\n",
              "   Longitude  Target  \n",
              "0    -122.23   4.526  \n",
              "1    -122.22   3.585  \n",
              "2    -122.24   3.521  \n",
              "3    -122.25   3.413  \n",
              "4    -122.25   3.422  "
            ],
            "text/html": [
              "\n",
              "  <div id=\"df-0ced2b86-ef01-40d4-a200-f9e89b1c0ce0\" class=\"colab-df-container\">\n",
              "    <div>\n",
              "<style scoped>\n",
              "    .dataframe tbody tr th:only-of-type {\n",
              "        vertical-align: middle;\n",
              "    }\n",
              "\n",
              "    .dataframe tbody tr th {\n",
              "        vertical-align: top;\n",
              "    }\n",
              "\n",
              "    .dataframe thead th {\n",
              "        text-align: right;\n",
              "    }\n",
              "</style>\n",
              "<table border=\"1\" class=\"dataframe\">\n",
              "  <thead>\n",
              "    <tr style=\"text-align: right;\">\n",
              "      <th></th>\n",
              "      <th>MedInc</th>\n",
              "      <th>HouseAge</th>\n",
              "      <th>AveRooms</th>\n",
              "      <th>AveBedrms</th>\n",
              "      <th>Population</th>\n",
              "      <th>AveOccup</th>\n",
              "      <th>Latitude</th>\n",
              "      <th>Longitude</th>\n",
              "      <th>Target</th>\n",
              "    </tr>\n",
              "  </thead>\n",
              "  <tbody>\n",
              "    <tr>\n",
              "      <th>0</th>\n",
              "      <td>8.3252</td>\n",
              "      <td>41.0</td>\n",
              "      <td>6.984127</td>\n",
              "      <td>1.023810</td>\n",
              "      <td>322.0</td>\n",
              "      <td>2.555556</td>\n",
              "      <td>37.88</td>\n",
              "      <td>-122.23</td>\n",
              "      <td>4.526</td>\n",
              "    </tr>\n",
              "    <tr>\n",
              "      <th>1</th>\n",
              "      <td>8.3014</td>\n",
              "      <td>21.0</td>\n",
              "      <td>6.238137</td>\n",
              "      <td>0.971880</td>\n",
              "      <td>2401.0</td>\n",
              "      <td>2.109842</td>\n",
              "      <td>37.86</td>\n",
              "      <td>-122.22</td>\n",
              "      <td>3.585</td>\n",
              "    </tr>\n",
              "    <tr>\n",
              "      <th>2</th>\n",
              "      <td>7.2574</td>\n",
              "      <td>52.0</td>\n",
              "      <td>8.288136</td>\n",
              "      <td>1.073446</td>\n",
              "      <td>496.0</td>\n",
              "      <td>2.802260</td>\n",
              "      <td>37.85</td>\n",
              "      <td>-122.24</td>\n",
              "      <td>3.521</td>\n",
              "    </tr>\n",
              "    <tr>\n",
              "      <th>3</th>\n",
              "      <td>5.6431</td>\n",
              "      <td>52.0</td>\n",
              "      <td>5.817352</td>\n",
              "      <td>1.073059</td>\n",
              "      <td>558.0</td>\n",
              "      <td>2.547945</td>\n",
              "      <td>37.85</td>\n",
              "      <td>-122.25</td>\n",
              "      <td>3.413</td>\n",
              "    </tr>\n",
              "    <tr>\n",
              "      <th>4</th>\n",
              "      <td>3.8462</td>\n",
              "      <td>52.0</td>\n",
              "      <td>6.281853</td>\n",
              "      <td>1.081081</td>\n",
              "      <td>565.0</td>\n",
              "      <td>2.181467</td>\n",
              "      <td>37.85</td>\n",
              "      <td>-122.25</td>\n",
              "      <td>3.422</td>\n",
              "    </tr>\n",
              "  </tbody>\n",
              "</table>\n",
              "</div>\n",
              "    <div class=\"colab-df-buttons\">\n",
              "\n",
              "  <div class=\"colab-df-container\">\n",
              "    <button class=\"colab-df-convert\" onclick=\"convertToInteractive('df-0ced2b86-ef01-40d4-a200-f9e89b1c0ce0')\"\n",
              "            title=\"Convert this dataframe to an interactive table.\"\n",
              "            style=\"display:none;\">\n",
              "\n",
              "  <svg xmlns=\"http://www.w3.org/2000/svg\" height=\"24px\" viewBox=\"0 -960 960 960\">\n",
              "    <path d=\"M120-120v-720h720v720H120Zm60-500h600v-160H180v160Zm220 220h160v-160H400v160Zm0 220h160v-160H400v160ZM180-400h160v-160H180v160Zm440 0h160v-160H620v160ZM180-180h160v-160H180v160Zm440 0h160v-160H620v160Z\"/>\n",
              "  </svg>\n",
              "    </button>\n",
              "\n",
              "  <style>\n",
              "    .colab-df-container {\n",
              "      display:flex;\n",
              "      gap: 12px;\n",
              "    }\n",
              "\n",
              "    .colab-df-convert {\n",
              "      background-color: #E8F0FE;\n",
              "      border: none;\n",
              "      border-radius: 50%;\n",
              "      cursor: pointer;\n",
              "      display: none;\n",
              "      fill: #1967D2;\n",
              "      height: 32px;\n",
              "      padding: 0 0 0 0;\n",
              "      width: 32px;\n",
              "    }\n",
              "\n",
              "    .colab-df-convert:hover {\n",
              "      background-color: #E2EBFA;\n",
              "      box-shadow: 0px 1px 2px rgba(60, 64, 67, 0.3), 0px 1px 3px 1px rgba(60, 64, 67, 0.15);\n",
              "      fill: #174EA6;\n",
              "    }\n",
              "\n",
              "    .colab-df-buttons div {\n",
              "      margin-bottom: 4px;\n",
              "    }\n",
              "\n",
              "    [theme=dark] .colab-df-convert {\n",
              "      background-color: #3B4455;\n",
              "      fill: #D2E3FC;\n",
              "    }\n",
              "\n",
              "    [theme=dark] .colab-df-convert:hover {\n",
              "      background-color: #434B5C;\n",
              "      box-shadow: 0px 1px 3px 1px rgba(0, 0, 0, 0.15);\n",
              "      filter: drop-shadow(0px 1px 2px rgba(0, 0, 0, 0.3));\n",
              "      fill: #FFFFFF;\n",
              "    }\n",
              "  </style>\n",
              "\n",
              "    <script>\n",
              "      const buttonEl =\n",
              "        document.querySelector('#df-0ced2b86-ef01-40d4-a200-f9e89b1c0ce0 button.colab-df-convert');\n",
              "      buttonEl.style.display =\n",
              "        google.colab.kernel.accessAllowed ? 'block' : 'none';\n",
              "\n",
              "      async function convertToInteractive(key) {\n",
              "        const element = document.querySelector('#df-0ced2b86-ef01-40d4-a200-f9e89b1c0ce0');\n",
              "        const dataTable =\n",
              "          await google.colab.kernel.invokeFunction('convertToInteractive',\n",
              "                                                    [key], {});\n",
              "        if (!dataTable) return;\n",
              "\n",
              "        const docLinkHtml = 'Like what you see? Visit the ' +\n",
              "          '<a target=\"_blank\" href=https://colab.research.google.com/notebooks/data_table.ipynb>data table notebook</a>'\n",
              "          + ' to learn more about interactive tables.';\n",
              "        element.innerHTML = '';\n",
              "        dataTable['output_type'] = 'display_data';\n",
              "        await google.colab.output.renderOutput(dataTable, element);\n",
              "        const docLink = document.createElement('div');\n",
              "        docLink.innerHTML = docLinkHtml;\n",
              "        element.appendChild(docLink);\n",
              "      }\n",
              "    </script>\n",
              "  </div>\n",
              "\n",
              "\n",
              "    <div id=\"df-4b793dac-311e-4494-b709-e5fa8a344081\">\n",
              "      <button class=\"colab-df-quickchart\" onclick=\"quickchart('df-4b793dac-311e-4494-b709-e5fa8a344081')\"\n",
              "                title=\"Suggest charts\"\n",
              "                style=\"display:none;\">\n",
              "\n",
              "<svg xmlns=\"http://www.w3.org/2000/svg\" height=\"24px\"viewBox=\"0 0 24 24\"\n",
              "     width=\"24px\">\n",
              "    <g>\n",
              "        <path d=\"M19 3H5c-1.1 0-2 .9-2 2v14c0 1.1.9 2 2 2h14c1.1 0 2-.9 2-2V5c0-1.1-.9-2-2-2zM9 17H7v-7h2v7zm4 0h-2V7h2v10zm4 0h-2v-4h2v4z\"/>\n",
              "    </g>\n",
              "</svg>\n",
              "      </button>\n",
              "\n",
              "<style>\n",
              "  .colab-df-quickchart {\n",
              "      --bg-color: #E8F0FE;\n",
              "      --fill-color: #1967D2;\n",
              "      --hover-bg-color: #E2EBFA;\n",
              "      --hover-fill-color: #174EA6;\n",
              "      --disabled-fill-color: #AAA;\n",
              "      --disabled-bg-color: #DDD;\n",
              "  }\n",
              "\n",
              "  [theme=dark] .colab-df-quickchart {\n",
              "      --bg-color: #3B4455;\n",
              "      --fill-color: #D2E3FC;\n",
              "      --hover-bg-color: #434B5C;\n",
              "      --hover-fill-color: #FFFFFF;\n",
              "      --disabled-bg-color: #3B4455;\n",
              "      --disabled-fill-color: #666;\n",
              "  }\n",
              "\n",
              "  .colab-df-quickchart {\n",
              "    background-color: var(--bg-color);\n",
              "    border: none;\n",
              "    border-radius: 50%;\n",
              "    cursor: pointer;\n",
              "    display: none;\n",
              "    fill: var(--fill-color);\n",
              "    height: 32px;\n",
              "    padding: 0;\n",
              "    width: 32px;\n",
              "  }\n",
              "\n",
              "  .colab-df-quickchart:hover {\n",
              "    background-color: var(--hover-bg-color);\n",
              "    box-shadow: 0 1px 2px rgba(60, 64, 67, 0.3), 0 1px 3px 1px rgba(60, 64, 67, 0.15);\n",
              "    fill: var(--button-hover-fill-color);\n",
              "  }\n",
              "\n",
              "  .colab-df-quickchart-complete:disabled,\n",
              "  .colab-df-quickchart-complete:disabled:hover {\n",
              "    background-color: var(--disabled-bg-color);\n",
              "    fill: var(--disabled-fill-color);\n",
              "    box-shadow: none;\n",
              "  }\n",
              "\n",
              "  .colab-df-spinner {\n",
              "    border: 2px solid var(--fill-color);\n",
              "    border-color: transparent;\n",
              "    border-bottom-color: var(--fill-color);\n",
              "    animation:\n",
              "      spin 1s steps(1) infinite;\n",
              "  }\n",
              "\n",
              "  @keyframes spin {\n",
              "    0% {\n",
              "      border-color: transparent;\n",
              "      border-bottom-color: var(--fill-color);\n",
              "      border-left-color: var(--fill-color);\n",
              "    }\n",
              "    20% {\n",
              "      border-color: transparent;\n",
              "      border-left-color: var(--fill-color);\n",
              "      border-top-color: var(--fill-color);\n",
              "    }\n",
              "    30% {\n",
              "      border-color: transparent;\n",
              "      border-left-color: var(--fill-color);\n",
              "      border-top-color: var(--fill-color);\n",
              "      border-right-color: var(--fill-color);\n",
              "    }\n",
              "    40% {\n",
              "      border-color: transparent;\n",
              "      border-right-color: var(--fill-color);\n",
              "      border-top-color: var(--fill-color);\n",
              "    }\n",
              "    60% {\n",
              "      border-color: transparent;\n",
              "      border-right-color: var(--fill-color);\n",
              "    }\n",
              "    80% {\n",
              "      border-color: transparent;\n",
              "      border-right-color: var(--fill-color);\n",
              "      border-bottom-color: var(--fill-color);\n",
              "    }\n",
              "    90% {\n",
              "      border-color: transparent;\n",
              "      border-bottom-color: var(--fill-color);\n",
              "    }\n",
              "  }\n",
              "</style>\n",
              "\n",
              "      <script>\n",
              "        async function quickchart(key) {\n",
              "          const quickchartButtonEl =\n",
              "            document.querySelector('#' + key + ' button');\n",
              "          quickchartButtonEl.disabled = true;  // To prevent multiple clicks.\n",
              "          quickchartButtonEl.classList.add('colab-df-spinner');\n",
              "          try {\n",
              "            const charts = await google.colab.kernel.invokeFunction(\n",
              "                'suggestCharts', [key], {});\n",
              "          } catch (error) {\n",
              "            console.error('Error during call to suggestCharts:', error);\n",
              "          }\n",
              "          quickchartButtonEl.classList.remove('colab-df-spinner');\n",
              "          quickchartButtonEl.classList.add('colab-df-quickchart-complete');\n",
              "        }\n",
              "        (() => {\n",
              "          let quickchartButtonEl =\n",
              "            document.querySelector('#df-4b793dac-311e-4494-b709-e5fa8a344081 button');\n",
              "          quickchartButtonEl.style.display =\n",
              "            google.colab.kernel.accessAllowed ? 'block' : 'none';\n",
              "        })();\n",
              "      </script>\n",
              "    </div>\n",
              "\n",
              "    </div>\n",
              "  </div>\n"
            ],
            "application/vnd.google.colaboratory.intrinsic+json": {
              "type": "dataframe",
              "variable_name": "df",
              "summary": "{\n  \"name\": \"df\",\n  \"rows\": 20640,\n  \"fields\": [\n    {\n      \"column\": \"MedInc\",\n      \"properties\": {\n        \"dtype\": \"number\",\n        \"std\": 1.8998217179452732,\n        \"min\": 0.4999,\n        \"max\": 15.0001,\n        \"num_unique_values\": 12928,\n        \"samples\": [\n          5.0286,\n          2.0433,\n          6.1228\n        ],\n        \"semantic_type\": \"\",\n        \"description\": \"\"\n      }\n    },\n    {\n      \"column\": \"HouseAge\",\n      \"properties\": {\n        \"dtype\": \"number\",\n        \"std\": 12.585557612111637,\n        \"min\": 1.0,\n        \"max\": 52.0,\n        \"num_unique_values\": 52,\n        \"samples\": [\n          35.0,\n          25.0,\n          7.0\n        ],\n        \"semantic_type\": \"\",\n        \"description\": \"\"\n      }\n    },\n    {\n      \"column\": \"AveRooms\",\n      \"properties\": {\n        \"dtype\": \"number\",\n        \"std\": 2.4741731394243205,\n        \"min\": 0.8461538461538461,\n        \"max\": 141.9090909090909,\n        \"num_unique_values\": 19392,\n        \"samples\": [\n          6.111269614835948,\n          5.912820512820513,\n          5.7924528301886795\n        ],\n        \"semantic_type\": \"\",\n        \"description\": \"\"\n      }\n    },\n    {\n      \"column\": \"AveBedrms\",\n      \"properties\": {\n        \"dtype\": \"number\",\n        \"std\": 0.47391085679546435,\n        \"min\": 0.3333333333333333,\n        \"max\": 34.06666666666667,\n        \"num_unique_values\": 14233,\n        \"samples\": [\n          0.9906542056074766,\n          1.112099644128114,\n          1.0398230088495575\n        ],\n        \"semantic_type\": \"\",\n        \"description\": \"\"\n      }\n    },\n    {\n      \"column\": \"Population\",\n      \"properties\": {\n        \"dtype\": \"number\",\n        \"std\": 1132.4621217653375,\n        \"min\": 3.0,\n        \"max\": 35682.0,\n        \"num_unique_values\": 3888,\n        \"samples\": [\n          4169.0,\n          636.0,\n          3367.0\n        ],\n        \"semantic_type\": \"\",\n        \"description\": \"\"\n      }\n    },\n    {\n      \"column\": \"AveOccup\",\n      \"properties\": {\n        \"dtype\": \"number\",\n        \"std\": 10.386049562213591,\n        \"min\": 0.6923076923076923,\n        \"max\": 1243.3333333333333,\n        \"num_unique_values\": 18841,\n        \"samples\": [\n          2.6939799331103678,\n          3.559375,\n          3.297082228116711\n        ],\n        \"semantic_type\": \"\",\n        \"description\": \"\"\n      }\n    },\n    {\n      \"column\": \"Latitude\",\n      \"properties\": {\n        \"dtype\": \"number\",\n        \"std\": 2.1359523974571117,\n        \"min\": 32.54,\n        \"max\": 41.95,\n        \"num_unique_values\": 862,\n        \"samples\": [\n          33.7,\n          34.41,\n          38.24\n        ],\n        \"semantic_type\": \"\",\n        \"description\": \"\"\n      }\n    },\n    {\n      \"column\": \"Longitude\",\n      \"properties\": {\n        \"dtype\": \"number\",\n        \"std\": 2.003531723502581,\n        \"min\": -124.35,\n        \"max\": -114.31,\n        \"num_unique_values\": 844,\n        \"samples\": [\n          -118.63,\n          -119.86,\n          -121.26\n        ],\n        \"semantic_type\": \"\",\n        \"description\": \"\"\n      }\n    },\n    {\n      \"column\": \"Target\",\n      \"properties\": {\n        \"dtype\": \"number\",\n        \"std\": 1.1539561587441483,\n        \"min\": 0.14999,\n        \"max\": 5.00001,\n        \"num_unique_values\": 3842,\n        \"samples\": [\n          1.943,\n          3.79,\n          2.301\n        ],\n        \"semantic_type\": \"\",\n        \"description\": \"\"\n      }\n    }\n  ]\n}"
            }
          },
          "metadata": {},
          "execution_count": 2
        }
      ]
    },
    {
      "cell_type": "markdown",
      "source": [
        "  <h2>Defining Features and Splitting Data</h2>\n",
        "  <p>\n",
        "    The DataFrame is split into two parts:\n",
        "    <ul>\n",
        "      <li><strong>X</strong> holds all predictor columns.</li>\n",
        "      <li><strong>y</strong> holds the target column (“Target”).</li>\n",
        "    </ul>\n",
        "    We then use <code>train_test_split</code> to randomly shuffle and carve off 10% of the data as a test set,\n",
        "    keeping 90% for training, with a fixed random seed for reproducibility.\n",
        "  </p>"
      ],
      "metadata": {
        "id": "eYREyITGa8a8"
      }
    },
    {
      "cell_type": "code",
      "source": [
        "X = df.iloc[:, :-1]  # All columns except \"Target\"\n",
        "y = df[\"Target\"]     # The column we want to predict\n",
        "\n",
        "X_train, X_test, y_train, y_test = train_test_split(X, y, test_size=0.1, random_state=89)\n"
      ],
      "metadata": {
        "id": "qo79jkMfg3nz"
      },
      "execution_count": 3,
      "outputs": []
    },
    {
      "cell_type": "markdown",
      "source": [
        "<h2>Training & Predicting with XGBoost</h2>\n",
        "  <p>\n",
        "    An <code>XGBRegressor</code> model is instantiated with 100 boosting rounds and a squared-error objective.\n",
        "    We fit it on the training data and then generate predictions on the held-out test set, which we store for later comparison.\n",
        "  </p>"
      ],
      "metadata": {
        "id": "ixjY0Rdua85B"
      }
    },
    {
      "cell_type": "code",
      "source": [
        "model = XGBRegressor(objective='reg:squarederror', n_estimators=100, random_state=89)\n",
        "model.fit(X_train, y_train)\n",
        "\n",
        "y_pred_xgb = model.predict(X_test)\n"
      ],
      "metadata": {
        "id": "_JQl58kig7iW"
      },
      "execution_count": 4,
      "outputs": []
    },
    {
      "cell_type": "markdown",
      "source": [
        "  <h2>Comparing True vs. XGBoost Predictions</h2>\n",
        "  <p>\n",
        "    We assemble a small table showing the actual test-set values alongside the XGBoost predictions.\n",
        "    Resetting the index ensures a clean row numbering from 0 upward, making it easy to spot large prediction errors.\n",
        "  </p>"
      ],
      "metadata": {
        "id": "PSc4Ps5ua9Oj"
      }
    },
    {
      "cell_type": "code",
      "source": [
        "comparison_df = pd.DataFrame({\n",
        "    'True Values': y_test.values,\n",
        "    'XGBoost Predicted Values': y_pred_xgb\n",
        "})\n",
        "\n",
        "print(comparison_df.reset_index(drop=True))\n"
      ],
      "metadata": {
        "colab": {
          "base_uri": "https://localhost:8080/"
        },
        "id": "kVEdWDwghEDl",
        "outputId": "fd8c9262-a817-4182-8f58-b1b5c919d1dc"
      },
      "execution_count": 5,
      "outputs": [
        {
          "output_type": "stream",
          "name": "stdout",
          "text": [
            "      True Values  XGBoost Predicted Values\n",
            "0           0.678                  0.760134\n",
            "1           1.633                  1.464027\n",
            "2           0.325                  1.113717\n",
            "3           0.974                  1.455863\n",
            "4           0.689                  0.622672\n",
            "...           ...                       ...\n",
            "2059        2.089                  2.243745\n",
            "2060        2.738                  1.955471\n",
            "2061        2.939                  2.900734\n",
            "2062        1.050                  1.018348\n",
            "2063        0.958                  1.181661\n",
            "\n",
            "[2064 rows x 2 columns]\n"
          ]
        }
      ]
    },
    {
      "cell_type": "markdown",
      "source": [
        "  <h2>Training & Comparing AdaBoost</h2>\n",
        "  <p>\n",
        "    This code repeats the previous workflow using <code>AdaBoostRegressor</code> with 100 weak learners.\n",
        "    After fitting on the same training split and predicting, we again build and display a comparison table\n",
        "    between true values and AdaBoost’s estimates.\n",
        "  </p>"
      ],
      "metadata": {
        "id": "ib9tXPQ4bc8Y"
      }
    },
    {
      "cell_type": "code",
      "source": [
        "from sklearn.ensemble import AdaBoostRegressor\n",
        "model = AdaBoostRegressor(n_estimators=100, random_state=89)\n",
        "model.fit(X_train, y_train)\n",
        "y_pred_ada = model.predict(X_test)\n",
        "comparison_df = pd.DataFrame({\n",
        "    'True Values': y_test.values,\n",
        "    'AdaBoost Predicted Values': y_pred_ada\n",
        "})\n",
        "\n",
        "print(comparison_df.reset_index(drop=True))"
      ],
      "metadata": {
        "colab": {
          "base_uri": "https://localhost:8080/"
        },
        "id": "Z2HX57TxhB7U",
        "outputId": "addb41e4-d226-4eb4-bd61-138c0e80fcf4"
      },
      "execution_count": 6,
      "outputs": [
        {
          "output_type": "stream",
          "name": "stdout",
          "text": [
            "      True Values  AdaBoost Predicted Values\n",
            "0           0.678                   1.476444\n",
            "1           1.633                   1.600211\n",
            "2           0.325                   2.257839\n",
            "3           0.974                   2.891567\n",
            "4           0.689                   1.490360\n",
            "...           ...                        ...\n",
            "2059        2.089                   2.116662\n",
            "2060        2.738                   2.653919\n",
            "2061        2.939                   3.396618\n",
            "2062        1.050                   2.083498\n",
            "2063        0.958                   1.555354\n",
            "\n",
            "[2064 rows x 2 columns]\n"
          ]
        }
      ]
    },
    {
      "cell_type": "markdown",
      "source": [
        "  <h2>Training & Comparing Random Forest</h2>\n",
        "  <p>\n",
        "    A <code>RandomForestRegressor</code> with 100 trees is trained on the same data.\n",
        "    We predict on the test set and present the side-by-side table of true vs. Random Forest predictions\n",
        "    to visually assess its accuracy relative to the other two models.\n",
        "  </p>"
      ],
      "metadata": {
        "id": "8xIKnud9bjvz"
      }
    },
    {
      "cell_type": "code",
      "source": [
        "from sklearn.ensemble import RandomForestRegressor\n",
        "model = RandomForestRegressor(n_estimators=100, random_state=89)\n",
        "model.fit(X_train, y_train)\n",
        "y_pred_rf = model.predict(X_test)\n",
        "comparison_df = pd.DataFrame({\n",
        "    'True Values': y_test.values,\n",
        "    'Random Forest Predicted Values': y_pred_rf\n",
        "})\n",
        "\n",
        "print(comparison_df.reset_index(drop=True))\n"
      ],
      "metadata": {
        "colab": {
          "base_uri": "https://localhost:8080/"
        },
        "id": "ui654JRvhLbu",
        "outputId": "e1672d56-c384-404d-9a5c-5c3266f79cb6"
      },
      "execution_count": 7,
      "outputs": [
        {
          "output_type": "stream",
          "name": "stdout",
          "text": [
            "      True Values  Random Forest Predicted Values\n",
            "0           0.678                        0.666340\n",
            "1           1.633                        1.580540\n",
            "2           0.325                        1.903001\n",
            "3           0.974                        1.367020\n",
            "4           0.689                        0.621760\n",
            "...           ...                             ...\n",
            "2059        2.089                        2.003770\n",
            "2060        2.738                        1.957180\n",
            "2061        2.939                        3.242730\n",
            "2062        1.050                        1.019100\n",
            "2063        0.958                        1.435980\n",
            "\n",
            "[2064 rows x 2 columns]\n"
          ]
        }
      ]
    },
    {
      "cell_type": "markdown",
      "source": [
        "  <h2>Evaluating XGBoost</h2>\n",
        "  <p>\n",
        "    We compute two key regression metrics on the XGBoost predictions:\n",
        "    <ul>\n",
        "      <li><strong>Mean Squared Error (MSE):</strong> the average of squared prediction errors.</li>\n",
        "      <li><strong>R² Score:</strong> the proportion of variance in the target explained by the model.</li>\n",
        "    </ul>\n",
        "    Printing these values gives a numeric summary of XGBoost’s performance.\n",
        "  </p>"
      ],
      "metadata": {
        "id": "t-5rmKuLbnTQ"
      }
    },
    {
      "cell_type": "code",
      "source": [
        "mse = mean_squared_error(y_test, y_pred_xgb)\n",
        "r2 = r2_score(y_test, y_pred_xgb)\n",
        "\n",
        "print(\"Mean Squared Error:\", mse)\n",
        "print(\"R^2 Score:\", r2)"
      ],
      "metadata": {
        "colab": {
          "base_uri": "https://localhost:8080/"
        },
        "id": "7nUH1pTOhoTj",
        "outputId": "27fba57e-069c-4706-bff8-9722420bddb8"
      },
      "execution_count": 8,
      "outputs": [
        {
          "output_type": "stream",
          "name": "stdout",
          "text": [
            "Mean Squared Error: 0.1895106604397491\n",
            "R^2 Score: 0.8501974586838057\n"
          ]
        }
      ]
    },
    {
      "cell_type": "markdown",
      "source": [
        "  <h2>Evaluating AdaBoost</h2>\n",
        "  <p>\n",
        "    The same two metrics (MSE and R²) are calculated for the AdaBoost predictions.\n",
        "    Comparing these numbers to XGBoost’s helps us judge which algorithm captures the data patterns best.\n",
        "  </p>"
      ],
      "metadata": {
        "id": "W4bwre7Fbq0I"
      }
    },
    {
      "cell_type": "code",
      "source": [
        "mse = mean_squared_error(y_test, y_pred_ada)\n",
        "r2 = r2_score(y_test, y_pred_ada)\n",
        "\n",
        "print(\"Mean Squared Error:\", mse)\n",
        "print(\"R^2 Score:\", r2)"
      ],
      "metadata": {
        "colab": {
          "base_uri": "https://localhost:8080/"
        },
        "id": "5v0qEwXkhSa5",
        "outputId": "e5426c80-946a-4999-ae7a-3aa4f48ac046"
      },
      "execution_count": 9,
      "outputs": [
        {
          "output_type": "stream",
          "name": "stdout",
          "text": [
            "Mean Squared Error: 0.67750204520055\n",
            "R^2 Score: 0.46445478115871663\n"
          ]
        }
      ]
    },
    {
      "cell_type": "markdown",
      "source": [
        "  <h2>Evaluating Random Forest</h2>\n",
        "  <p>\n",
        "    Finally, we compute MSE and R² for the Random Forest’s predictions on the test set.\n",
        "    With all three models evaluated on identical metrics and data, we can make an apple-to-apples comparison\n",
        "    of their regression accuracy.\n",
        "  </p>"
      ],
      "metadata": {
        "id": "kysiv7MTbub_"
      }
    },
    {
      "cell_type": "code",
      "source": [
        "mse = mean_squared_error(y_test, y_pred_rf)\n",
        "r2 = r2_score(y_test, y_pred_rf)\n",
        "\n",
        "print(\"Mean Squared Error:\", mse)\n",
        "print(\"R^2 Score:\", r2)"
      ],
      "metadata": {
        "colab": {
          "base_uri": "https://localhost:8080/"
        },
        "id": "Ep6h78F5hUap",
        "outputId": "6500c8af-1ff4-4dc0-ee0d-9657f1fcd450"
      },
      "execution_count": 10,
      "outputs": [
        {
          "output_type": "stream",
          "name": "stdout",
          "text": [
            "Mean Squared Error: 0.21504261059267016\n",
            "R^2 Score: 0.8300152113696395\n"
          ]
        }
      ]
    },
    {
      "cell_type": "markdown",
      "source": [
        "<h2>Performance Summary of Regression Models</h2>\n",
        "\n",
        "<ul>\n",
        "  <li>\n",
        "    <strong>XGBoost</strong><br>\n",
        "    • <em>Mean Squared Error (MSE):</em> 0.1895 (lowest error)<br>\n",
        "    • <em>R² Score:</em> 0.8502 (explains 85% of variance)\n",
        "  </li>\n",
        "  <li>\n",
        "    <strong>Random Forest</strong><br>\n",
        "    • <em>MSE:</em> 0.2150 (slightly higher error than XGBoost)<br>\n",
        "    • <em>R² Score:</em> 0.8300 (explains 83% of variance)\n",
        "  </li>\n",
        "  <li>\n",
        "    <strong>AdaBoost</strong><br>\n",
        "    • <em>MSE:</em> 0.6775 (highest error)<br>\n",
        "    • <em>R² Score:</em> 0.4645 (explains 46% of variance)\n",
        "  </li>\n",
        "</ul>\n",
        "\n",
        "<p>\n",
        "  <strong>Interpretation:</strong>  \n",
        "  Among the three algorithms, <em>XGBoost</em> achieves the best regression performance,  \n",
        "  with the lowest average squared error and the highest R².  \n",
        "  <em>Random Forest</em> follows closely, showing strong predictive power.  \n",
        "  <em>AdaBoost</em> underperforms in this task, exhibiting both higher error and lower explained variance.\n",
        "</p>\n"
      ],
      "metadata": {
        "id": "0vbWyoMlcapP"
      }
    },
    {
      "cell_type": "code",
      "source": [],
      "metadata": {
        "id": "Pkg_nKbwhyo2"
      },
      "execution_count": 10,
      "outputs": []
    }
  ]
}